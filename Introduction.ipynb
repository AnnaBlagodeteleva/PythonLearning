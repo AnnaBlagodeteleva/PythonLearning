{
 "cells": [
  {
   "cell_type": "markdown",
   "id": "23be216c",
   "metadata": {},
   "source": [
    "# Introduction"
   ]
  },
  {
   "cell_type": "code",
   "execution_count": 1,
   "id": "213a7157",
   "metadata": {
    "scrolled": true
   },
   "outputs": [
    {
     "name": "stdout",
     "output_type": "stream",
     "text": [
      "Ivanova Oksana Dmitrievna\n",
      "Moscow, Russia, Tretyakovskaya 12/1\n"
     ]
    }
   ],
   "source": [
    "#1\n",
    "\n",
    "fio = \"Ivanova Oksana Dmitrievna\"\n",
    "address = \"Moscow, Russia, Tretyakovskaya 12/1\"\n",
    "\n",
    "print(fio)\n",
    "print(address)"
   ]
  },
  {
   "cell_type": "code",
   "execution_count": 4,
   "id": "a71ec371",
   "metadata": {},
   "outputs": [
    {
     "name": "stdout",
     "output_type": "stream",
     "text": [
      "please enter your name: Oksana\n",
      "Hello, Oksana!\n"
     ]
    }
   ],
   "source": [
    "#2\n",
    "\n",
    "name = input(\"please enter your name: \")\n",
    "greetings = \"Hello, \" + name + \"!\"\n",
    "print(greetings)"
   ]
  },
  {
   "cell_type": "code",
   "execution_count": 10,
   "id": "259cc8f2",
   "metadata": {},
   "outputs": [
    {
     "name": "stdout",
     "output_type": "stream",
     "text": [
      "please enter the width: 12\n",
      "please enter the length: 19.44\n",
      "The square of the room is 233.28\n"
     ]
    }
   ],
   "source": [
    "#3\n",
    "\n",
    "width = float(input(\"please enter the width: \"))\n",
    "lenght = float(input(\"please enter the length: \"))\n",
    "\n",
    "s = round(width*lenght, 2)\n",
    "\n",
    "report = \"The square of the room is \" + str(s)\n",
    "\n",
    "print(report)"
   ]
  },
  {
   "cell_type": "code",
   "execution_count": 13,
   "id": "47e0763a",
   "metadata": {},
   "outputs": [
    {
     "name": "stdout",
     "output_type": "stream",
     "text": [
      "please enter the width in footage: 1000\n",
      "please enter the length in footage: 5000.75\n",
      "There acreage is 115\n"
     ]
    }
   ],
   "source": [
    "#4\n",
    "\n",
    "width = float(input(\"please enter the width in footage: \"))\n",
    "lenght = float(input(\"please enter the length in footage: \"))\n",
    "\n",
    "s = width*lenght\n",
    "s_acres = round(s/43560)\n",
    "\n",
    "report = \"There acreage is \" + str(s_acres) \n",
    "\n",
    "print(report)"
   ]
  },
  {
   "cell_type": "code",
   "execution_count": 18,
   "id": "adcc389a",
   "metadata": {},
   "outputs": [
    {
     "name": "stdout",
     "output_type": "stream",
     "text": [
      "please enter the number of small bottles: 5\n",
      "please enter the number of big bottles: 3\n",
      "Thanks for the bottles! Your payment is 1.25$!\n"
     ]
    }
   ],
   "source": [
    "#5 \n",
    "\n",
    "small = int(input(\"please enter the number of small bottles: \"))\n",
    "big = int(input(\"please enter the number of big bottles: \"))\n",
    "\n",
    "payment = 0.1*small + 0.25*big\n",
    "\n",
    "report = \"Thanks for the bottles! Your payment is \" + str(payment) + \"$!\"\n",
    "print(report)"
   ]
  },
  {
   "cell_type": "code",
   "execution_count": 12,
   "id": "d3e143dd",
   "metadata": {},
   "outputs": [
    {
     "name": "stdout",
     "output_type": "stream",
     "text": [
      "Please enter order price: 120\n",
      "Your order: 120.0$\n",
      "Tips: 21.6$\n",
      "Tax: 24.0$\n",
      "Total: 165.6$\n"
     ]
    }
   ],
   "source": [
    "#6\n",
    "\n",
    "order = round(float(input(\"Please enter order price: \")), 2)\n",
    "tips = round(0.18*order, 2)\n",
    "tax = round(0.2*order, 2)\n",
    "total = round((order + tips + tax), 2)\n",
    "\n",
    "print(\"Your order: \" + str(order) + \"$\")\n",
    "print(\"Tips: \" + str(tips) + \"$\")\n",
    "print(\"Tax: \" + str(tax) + \"$\")\n",
    "print(\"Total: \" + str(total) + \"$\")"
   ]
  },
  {
   "cell_type": "code",
   "execution_count": 14,
   "id": "23ce214c",
   "metadata": {},
   "outputs": [
    {
     "name": "stdout",
     "output_type": "stream",
     "text": [
      "Please enter number: 9\n",
      "45.0\n"
     ]
    }
   ],
   "source": [
    "#7\n",
    "\n",
    "n = int(input(\"Please enter number: \"))\n",
    "s = (n*(n+1))/2\n",
    "\n",
    "print(s)"
   ]
  },
  {
   "cell_type": "code",
   "execution_count": 17,
   "id": "8f715f76",
   "metadata": {},
   "outputs": [
    {
     "name": "stdout",
     "output_type": "stream",
     "text": [
      "please enter amounts of souvenirs: 3\n",
      "please enter amounts of baubles: 4\n",
      "Total weight of the package: 673 grams.\n"
     ]
    }
   ],
   "source": [
    "#8\n",
    "\n",
    "souvenir = 75\n",
    "bauble = 112\n",
    "\n",
    "souvenir_num = int(input(\"please enter amounts of souvenirs: \"))\n",
    "bauble_num = int(input(\"please enter amounts of baubles: \"))\n",
    "\n",
    "weight = souvenir*souvenir_num + bauble*bauble_num\n",
    "\n",
    "print(\"Total weight of the package: \" + str(weight) + \" grams.\")\n"
   ]
  },
  {
   "cell_type": "code",
   "execution_count": 45,
   "id": "abc7e1c8",
   "metadata": {},
   "outputs": [
    {
     "name": "stdout",
     "output_type": "stream",
     "text": [
      "please enter initial deposit: 182600\n",
      "189904.0\n",
      "197500.16\n",
      "205400.17\n"
     ]
    }
   ],
   "source": [
    "#9\n",
    "\n",
    "dep1 = float(input(\"please enter initial deposit: \"))\n",
    "\n",
    "rate = 0.04\n",
    "\n",
    "y1 = dep1*(1+rate)\n",
    "y2 = y1*(1+rate)\n",
    "y3 = y2*(1+rate)\n",
    "\n",
    "print(round(y1,2))\n",
    "print(round(y2,2))\n",
    "print(round(y3,2))"
   ]
  },
  {
   "cell_type": "code",
   "execution_count": 57,
   "id": "bd68b70d",
   "metadata": {},
   "outputs": [
    {
     "name": "stdout",
     "output_type": "stream",
     "text": [
      "please enter number a: 5\n",
      "please enter number b: 3\n",
      "The sum is 8\n",
      "The difference is 2\n",
      "The product is 15\n",
      "The modulo is 2\n",
      "The log is 1.6\n",
      "The modulo is 2\n",
      "The elevate is 125\n"
     ]
    }
   ],
   "source": [
    "#10\n",
    "\n",
    "import math\n",
    "\n",
    "a = int(input(\"please enter number a: \"))\n",
    "b = int(input(\"please enter number b: \"))\n",
    "\n",
    "s = a+b\n",
    "r = a-b\n",
    "p = a*b\n",
    "d = a/b\n",
    "m = a%b\n",
    "l = round(math.log(a),1)\n",
    "e = a**b\n",
    "\n",
    "print(\"The sum is \" + str(s))\n",
    "print(\"The difference is \" + str(r))\n",
    "print(\"The product is \" + str(p))\n",
    "print(\"The modulo is \" + str(m))\n",
    "print(\"The log is \" + str(l))\n",
    "print(\"The modulo is \" + str(m))\n",
    "print(\"The elevate is \" + str(e))"
   ]
  },
  {
   "cell_type": "code",
   "execution_count": 68,
   "id": "5d450b27",
   "metadata": {},
   "outputs": [
    {
     "name": "stdout",
     "output_type": "stream",
     "text": [
      "Please enter mpg: 150\n",
      "0.6377156320459115\n"
     ]
    }
   ],
   "source": [
    "#11\n",
    "\n",
    "mpg = float(input(\"Please enter mpg: \"))\n",
    "\n",
    "\n",
    "#l = 0.264172*g\n",
    "#km100 = 62.1371*m\n",
    "\n",
    "x = 0.264172/62.1371\n",
    "\n",
    "lkm100 = x*mpg\n",
    "\n",
    "print(lkm100)"
   ]
  },
  {
   "cell_type": "code",
   "execution_count": 81,
   "id": "375c87aa",
   "metadata": {},
   "outputs": [
    {
     "name": "stdout",
     "output_type": "stream",
     "text": [
      "Please enter first latitude: 15\n",
      "Please enter first longitude: 120\n",
      "Coordinates of the first point: (15.0, 120.0)\n",
      "Please enter second latitude: 30\n",
      "Please enter second longitude: -100\n",
      "Coordinates of the first point: (30.0, -100.0)\n",
      "The distance is 13427.59 km\n"
     ]
    }
   ],
   "source": [
    "#12\n",
    "\n",
    "\n",
    "#distance = 6371.01*arccos(sin(t1)*sin(t2) + cos(t1)*cos(t2)*cos(g1-g2))\n",
    "\n",
    "import math\n",
    "\n",
    "t1 = float(input(\"Please enter first latitude: \"))\n",
    "g1 = float(input(\"Please enter first longitude: \"))\n",
    "print(\"Coordinates of the first point: \" + \"(\" + str(t1) + \", \" + str(g1) + \")\")\n",
    "\n",
    "t2 = float(input(\"Please enter second latitude: \"))\n",
    "g2 = float(input(\"Please enter second longitude: \"))\n",
    "print(\"Coordinates of the first point: \" + \"(\" + str(t2) + \", \" + str(g2) + \")\")\n",
    "\n",
    "rt1 = (math.pi/180)*t1\n",
    "rt2 = (math.pi/180)*t2\n",
    "rg1 = (math.pi/180)*g1\n",
    "rg2 = (math.pi/180)*g2\n",
    "\n",
    "sint1 = math.sin(rt1)\n",
    "sint2 = math.sin(rt2)\n",
    "cost1 = math.cos(rt1)\n",
    "cost2 = math.cos(rt2)\n",
    "\n",
    "cosg = math.cos(rg1 - rg2)\n",
    "\n",
    "distance = round(6371.01*math.acos(sint1*sint2 + cost1*cost2*cosg),2)\n",
    "\n",
    "print(\"The distance is \" + str(distance) + \" km\")"
   ]
  },
  {
   "cell_type": "code",
   "execution_count": 7,
   "id": "d1199d9b",
   "metadata": {},
   "outputs": [
    {
     "name": "stdout",
     "output_type": "stream",
     "text": [
      "Please enter change amount in cents: 543\n",
      "  2 toonie(s)\n",
      "  1 loonie(s)\n",
      "  1 quarter(s)\n",
      "  1 dime(s)\n",
      "  1 nickel(s)\n",
      "  3 cent(s)\n"
     ]
    }
   ],
   "source": [
    "#13\n",
    "\n",
    "c200 = 200\n",
    "c100 = 100\n",
    "c25 = 25\n",
    "c10 = 10\n",
    "c5 = 5\n",
    "\n",
    "cents = int(input(\"Please enter change amount in cents: \"))\n",
    "\n",
    "print(\" \", cents // c200, \"toonie(s)\")\n",
    "cents = cents % c200\n",
    "\n",
    "print(\" \", cents // c100, \"loonie(s)\")\n",
    "cents = cents % c100\n",
    "\n",
    "print(\" \", cents // c25, \"quarter(s)\")\n",
    "cents = cents % c25\n",
    "\n",
    "print(\" \", cents // c10, \"dime(s)\")\n",
    "cents = cents % c10\n",
    "\n",
    "print(\" \", cents // c5, \"nickel(s)\")\n",
    "cents = cents % c5\n",
    "\n",
    "print(\" \", cents, \"cent(s)\")"
   ]
  },
  {
   "cell_type": "code",
   "execution_count": 10,
   "id": "b882a3f9",
   "metadata": {},
   "outputs": [
    {
     "name": "stdout",
     "output_type": "stream",
     "text": [
      "Please enter your height in pounds: 6\n",
      "Please enter your height in inches: 4\n",
      "Your height is  193.04  cm\n"
     ]
    }
   ],
   "source": [
    "#14\n",
    "\n",
    "pounds = int(input(\"Please enter your height in pounds: \"))\n",
    "inches = int(input(\"Please enter your height in inches: \"))\n",
    "\n",
    "inches = 12*pounds + inches\n",
    "\n",
    "cm = round(2.54*inches,2)\n",
    "           \n",
    "           \n",
    "print(\"Your height is \", str(cm), \" cm\")"
   ]
  },
  {
   "cell_type": "code",
   "execution_count": 12,
   "id": "20cdaeec",
   "metadata": {},
   "outputs": [
    {
     "name": "stdout",
     "output_type": "stream",
     "text": [
      "Please enter distance in footage: 5712.4\n",
      "5712.4  feet is: \n",
      "  68548.8  inches\n",
      "  1904.13  yards\n",
      "  1.08  miles\n"
     ]
    }
   ],
   "source": [
    "#15\n",
    "\n",
    "f = float(input(\"Please enter distance in footage: \"))\n",
    "\n",
    "inches = round(12*f, 2)\n",
    "yards = round((1/3)*f, 2)\n",
    "miles = round((1/5280)*f, 2)\n",
    "\n",
    "print(str(f), \" feet is: \")\n",
    "print(\" \", str(inches), \" inches\")\n",
    "print(\" \", str(yards), \" yards\")\n",
    "print(\" \", str(miles), \" miles\")"
   ]
  },
  {
   "cell_type": "code",
   "execution_count": null,
   "id": "6cb93edb",
   "metadata": {},
   "outputs": [],
   "source": []
  }
 ],
 "metadata": {
  "kernelspec": {
   "display_name": "Python 3",
   "language": "python",
   "name": "python3"
  },
  "language_info": {
   "codemirror_mode": {
    "name": "ipython",
    "version": 3
   },
   "file_extension": ".py",
   "mimetype": "text/x-python",
   "name": "python",
   "nbconvert_exporter": "python",
   "pygments_lexer": "ipython3",
   "version": "3.8.8"
  }
 },
 "nbformat": 4,
 "nbformat_minor": 5
}
